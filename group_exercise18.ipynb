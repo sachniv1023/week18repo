{
 "cells": [
  {
   "cell_type": "markdown",
   "id": "ea54339b",
   "metadata": {},
   "source": [
    "### Look up the Adam optimization functions in PyTorch https://pytorch.org/docs/stable/optim.html . How does it work? Try at least one other optimization function with the diabetes dataset shown in class. How does the model perform with the new optimizer? Did it perform better or worse than Adam? Why do you think that is?"
   ]
  },
  {
   "cell_type": "code",
   "execution_count": 1,
   "id": "50a68ef9",
   "metadata": {},
   "outputs": [
    {
     "data": {
      "text/html": [
       "<div>\n",
       "<style scoped>\n",
       "    .dataframe tbody tr th:only-of-type {\n",
       "        vertical-align: middle;\n",
       "    }\n",
       "\n",
       "    .dataframe tbody tr th {\n",
       "        vertical-align: top;\n",
       "    }\n",
       "\n",
       "    .dataframe thead th {\n",
       "        text-align: right;\n",
       "    }\n",
       "</style>\n",
       "<table border=\"1\" class=\"dataframe\">\n",
       "  <thead>\n",
       "    <tr style=\"text-align: right;\">\n",
       "      <th></th>\n",
       "      <th>Pregnancies</th>\n",
       "      <th>Glucose</th>\n",
       "      <th>BloodPressure</th>\n",
       "      <th>SkinThickness</th>\n",
       "      <th>Insulin</th>\n",
       "      <th>BMI</th>\n",
       "      <th>DiabetesPedigreeFunction</th>\n",
       "      <th>Age</th>\n",
       "      <th>Outcome</th>\n",
       "    </tr>\n",
       "  </thead>\n",
       "  <tbody>\n",
       "    <tr>\n",
       "      <th>0</th>\n",
       "      <td>6</td>\n",
       "      <td>148</td>\n",
       "      <td>72</td>\n",
       "      <td>35</td>\n",
       "      <td>0</td>\n",
       "      <td>33.6</td>\n",
       "      <td>0.627</td>\n",
       "      <td>50</td>\n",
       "      <td>1</td>\n",
       "    </tr>\n",
       "    <tr>\n",
       "      <th>1</th>\n",
       "      <td>1</td>\n",
       "      <td>85</td>\n",
       "      <td>66</td>\n",
       "      <td>29</td>\n",
       "      <td>0</td>\n",
       "      <td>26.6</td>\n",
       "      <td>0.351</td>\n",
       "      <td>31</td>\n",
       "      <td>0</td>\n",
       "    </tr>\n",
       "    <tr>\n",
       "      <th>2</th>\n",
       "      <td>8</td>\n",
       "      <td>183</td>\n",
       "      <td>64</td>\n",
       "      <td>0</td>\n",
       "      <td>0</td>\n",
       "      <td>23.3</td>\n",
       "      <td>0.672</td>\n",
       "      <td>32</td>\n",
       "      <td>1</td>\n",
       "    </tr>\n",
       "    <tr>\n",
       "      <th>3</th>\n",
       "      <td>1</td>\n",
       "      <td>89</td>\n",
       "      <td>66</td>\n",
       "      <td>23</td>\n",
       "      <td>94</td>\n",
       "      <td>28.1</td>\n",
       "      <td>0.167</td>\n",
       "      <td>21</td>\n",
       "      <td>0</td>\n",
       "    </tr>\n",
       "    <tr>\n",
       "      <th>4</th>\n",
       "      <td>0</td>\n",
       "      <td>137</td>\n",
       "      <td>40</td>\n",
       "      <td>35</td>\n",
       "      <td>168</td>\n",
       "      <td>43.1</td>\n",
       "      <td>2.288</td>\n",
       "      <td>33</td>\n",
       "      <td>1</td>\n",
       "    </tr>\n",
       "  </tbody>\n",
       "</table>\n",
       "</div>"
      ],
      "text/plain": [
       "   Pregnancies  Glucose  BloodPressure  SkinThickness  Insulin   BMI  \\\n",
       "0            6      148             72             35        0  33.6   \n",
       "1            1       85             66             29        0  26.6   \n",
       "2            8      183             64              0        0  23.3   \n",
       "3            1       89             66             23       94  28.1   \n",
       "4            0      137             40             35      168  43.1   \n",
       "\n",
       "   DiabetesPedigreeFunction  Age  Outcome  \n",
       "0                     0.627   50        1  \n",
       "1                     0.351   31        0  \n",
       "2                     0.672   32        1  \n",
       "3                     0.167   21        0  \n",
       "4                     2.288   33        1  "
      ]
     },
     "execution_count": 1,
     "metadata": {},
     "output_type": "execute_result"
    }
   ],
   "source": [
    "import pandas as pd\n",
    "import torch\n",
    "\n",
    "diabetes_df = pd.read_csv(\"../week13repo/diabetes.csv\")\n",
    "diabetes_df.head()"
   ]
  },
  {
   "cell_type": "code",
   "execution_count": 11,
   "id": "35d576a6",
   "metadata": {},
   "outputs": [],
   "source": [
    "from sklearn.model_selection import train_test_split\n",
    "from sklearn.preprocessing import StandardScaler\n",
    "\n",
    "X = diabetes_df.drop('Outcome', axis=1).values\n",
    "y = diabetes_df['Outcome'].values\n",
    "\n",
    "# Split into training and test set\n",
    "X_train, X_test, y_train, y_test = train_test_split(X, y, test_size = 0.2, random_state=42, stratify=y)\n",
    "\n",
    "# #Standardize\n",
    "sc= StandardScaler()\n",
    "X_train=sc.fit_transform(X_train)\n",
    "X_test=sc.fit_transform(X_test)"
   ]
  },
  {
   "cell_type": "code",
   "execution_count": 12,
   "id": "21ab57c0",
   "metadata": {},
   "outputs": [
    {
     "name": "stdout",
     "output_type": "stream",
     "text": [
      "tensor([[-0.8514, -0.9801, -0.4048,  ..., -0.6077,  0.3108, -0.7922],\n",
      "        [ 0.3566,  0.1614,  0.4654,  ..., -0.3021, -0.1164,  0.5610],\n",
      "        [-0.5494, -0.5045, -0.6223,  ...,  0.3726, -0.7649, -0.7076],\n",
      "        ...,\n",
      "        [-0.8514, -0.7582,  0.0303,  ...,  0.7800, -0.7861, -0.2847],\n",
      "        [ 1.8665, -0.3142,  0.0303,  ..., -0.5695, -1.0194,  0.5610],\n",
      "        [ 0.0546,  0.7322, -0.6223,  ..., -0.3149, -0.5770,  0.3073]])\n"
     ]
    }
   ],
   "source": [
    "import torch.nn as nn\n",
    "import torch.nn.functional as F #this has activation functions\n",
    "\n",
    "# Creating tensors\n",
    "X_train = torch.FloatTensor(X_train)\n",
    "X_test = torch.FloatTensor(X_test)\n",
    "\n",
    "y_train = torch.LongTensor(y_train)\n",
    "y_test = torch.LongTensor(y_test)\n",
    "\n",
    "print(X_train)"
   ]
  },
  {
   "cell_type": "code",
   "execution_count": 13,
   "id": "4c0ada9a",
   "metadata": {},
   "outputs": [],
   "source": [
    "class ANN_Model(nn.Module):\n",
    "    def __init__(self, input_features=8, hidden1=20, hidden2=20, out_features =2):\n",
    "        super().__init__()\n",
    "        self.layer_1_connection = nn.Linear(input_features, hidden1)\n",
    "        self.layer_2_connection = nn.Linear(hidden1, hidden2)\n",
    "        self.out = nn.Linear(hidden2, out_features)\n",
    "    \n",
    "    def forward(self, x):\n",
    "        #apply activation functions\n",
    "        x = F.relu(self.layer_1_connection(x))\n",
    "        x = F.relu(self.layer_2_connection(x))\n",
    "        x = self.out(x)\n",
    "        return x"
   ]
  },
  {
   "cell_type": "code",
   "execution_count": 14,
   "id": "5e05a35b",
   "metadata": {},
   "outputs": [],
   "source": [
    "torch.manual_seed(42)\n",
    "\n",
    "#instantiate the model\n",
    "model = ANN_Model()"
   ]
  },
  {
   "cell_type": "code",
   "execution_count": 17,
   "id": "226d1f5d",
   "metadata": {},
   "outputs": [],
   "source": [
    "# loss function USING SGD Algorithm\n",
    "loss_function = nn.CrossEntropyLoss()\n",
    "\n",
    "#optimizer\n",
    "#optimizer = torch.optim.Adam(model.parameters(), lr = 0.01)\n",
    "\n",
    "optimizer = torch.optim.SGD(model.parameters(), lr=0.1, momentum=0.9)\n"
   ]
  },
  {
   "cell_type": "code",
   "execution_count": 18,
   "id": "aa4953f6",
   "metadata": {},
   "outputs": [
    {
     "name": "stdout",
     "output_type": "stream",
     "text": [
      "Epoch number: 1 with loss: 0.6595041155815125\n",
      "Epoch number: 11 with loss: 0.6132243871688843\n",
      "Epoch number: 21 with loss: 0.5253595113754272\n",
      "Epoch number: 31 with loss: 0.47467175126075745\n",
      "Epoch number: 41 with loss: 0.4445890188217163\n",
      "Epoch number: 51 with loss: 0.433291494846344\n",
      "Epoch number: 61 with loss: 0.42537766695022583\n",
      "Epoch number: 71 with loss: 0.41854599118232727\n",
      "Epoch number: 81 with loss: 0.41132161021232605\n",
      "Epoch number: 91 with loss: 0.4042525291442871\n",
      "Epoch number: 101 with loss: 0.3967641294002533\n",
      "Epoch number: 111 with loss: 0.3894926905632019\n",
      "Epoch number: 121 with loss: 0.3818753957748413\n",
      "Epoch number: 131 with loss: 0.3738797605037689\n",
      "Epoch number: 141 with loss: 0.36500146985054016\n",
      "Epoch number: 151 with loss: 0.3556433916091919\n",
      "Epoch number: 161 with loss: 0.3455562889575958\n",
      "Epoch number: 171 with loss: 0.3349319100379944\n",
      "Epoch number: 181 with loss: 0.32496872544288635\n",
      "Epoch number: 191 with loss: 0.3151437044143677\n",
      "Epoch number: 201 with loss: 0.30499157309532166\n",
      "Epoch number: 211 with loss: 0.293357253074646\n",
      "Epoch number: 221 with loss: 0.282518208026886\n",
      "Epoch number: 231 with loss: 0.2727418541908264\n",
      "Epoch number: 241 with loss: 0.2635389566421509\n",
      "Epoch number: 251 with loss: 0.2548890709877014\n",
      "Epoch number: 261 with loss: 0.24665850400924683\n",
      "Epoch number: 271 with loss: 0.23894302546977997\n",
      "Epoch number: 281 with loss: 0.23152488470077515\n",
      "Epoch number: 291 with loss: 0.22386345267295837\n",
      "Epoch number: 301 with loss: 0.21625971794128418\n",
      "Epoch number: 311 with loss: 0.2073066681623459\n",
      "Epoch number: 321 with loss: 0.19837315380573273\n",
      "Epoch number: 331 with loss: 0.18905331194400787\n",
      "Epoch number: 341 with loss: 0.17978987097740173\n",
      "Epoch number: 351 with loss: 0.17104004323482513\n",
      "Epoch number: 361 with loss: 0.1626274287700653\n",
      "Epoch number: 371 with loss: 0.1544276475906372\n",
      "Epoch number: 381 with loss: 0.1462341845035553\n",
      "Epoch number: 391 with loss: 0.14926619827747345\n",
      "Epoch number: 401 with loss: 0.13784509897232056\n",
      "Epoch number: 411 with loss: 0.1481509506702423\n",
      "Epoch number: 421 with loss: 0.15538814663887024\n",
      "Epoch number: 431 with loss: 0.13853240013122559\n",
      "Epoch number: 441 with loss: 0.12834858894348145\n",
      "Epoch number: 451 with loss: 0.16251978278160095\n",
      "Epoch number: 461 with loss: 0.10112874954938889\n",
      "Epoch number: 471 with loss: 0.13821619749069214\n",
      "Epoch number: 481 with loss: 0.11127249151468277\n",
      "Epoch number: 491 with loss: 0.10162240266799927\n"
     ]
    }
   ],
   "source": [
    "#run model through multiple epochs/iterations\n",
    "final_loss = []\n",
    "n_epochs = 500\n",
    "for epoch in range(n_epochs):\n",
    "    y_pred = model.forward(X_train)\n",
    "    loss = loss_function(y_pred, y_train)\n",
    "    final_loss.append(loss)\n",
    "    \n",
    "    if epoch % 10 == 1:\n",
    "        print(f'Epoch number: {epoch} with loss: {loss.item()}')\n",
    "    \n",
    "    optimizer.zero_grad() #zero the gradient before running backwards propagation\n",
    "    loss.backward() #for backward propagation \n",
    "    optimizer.step() #performs one optimization step each epoch\n",
    "    "
   ]
  },
  {
   "cell_type": "code",
   "execution_count": 19,
   "id": "d3251d2d",
   "metadata": {},
   "outputs": [],
   "source": [
    "#predictions\n",
    "y_pred = []\n",
    "\n",
    "with torch.no_grad():\n",
    "    for i, data in enumerate(X_test):\n",
    "        prediction = model(data)\n",
    "        y_pred.append(prediction.argmax().item())\n"
   ]
  },
  {
   "cell_type": "code",
   "execution_count": 20,
   "id": "e5b20762",
   "metadata": {},
   "outputs": [
    {
     "name": "stdout",
     "output_type": "stream",
     "text": [
      "0.6363636363636364\n"
     ]
    }
   ],
   "source": [
    "from sklearn.metrics import accuracy_score\n",
    "a_score = accuracy_score(y_test, y_pred)\n",
    "print(a_score)"
   ]
  },
  {
   "cell_type": "code",
   "execution_count": 21,
   "id": "2208e233",
   "metadata": {},
   "outputs": [
    {
     "name": "stdout",
     "output_type": "stream",
     "text": [
      "              precision    recall  f1-score   support\n",
      "\n",
      "           0       0.78      0.61      0.69       100\n",
      "           1       0.49      0.69      0.57        54\n",
      "\n",
      "    accuracy                           0.64       154\n",
      "   macro avg       0.63      0.65      0.63       154\n",
      "weighted avg       0.68      0.64      0.64       154\n",
      "\n"
     ]
    }
   ],
   "source": [
    "from sklearn.metrics import classification_report\n",
    "\n",
    "print(classification_report(y_test, y_pred))"
   ]
  },
  {
   "cell_type": "code",
   "execution_count": null,
   "id": "08732a1a",
   "metadata": {},
   "outputs": [],
   "source": [
    "USING SGD Algorithm accuracy is .64%"
   ]
  },
  {
   "cell_type": "markdown",
   "id": "ca4b96a2",
   "metadata": {},
   "source": [
    "trying to figure out accuracy using Adam Algorithm"
   ]
  },
  {
   "cell_type": "code",
   "execution_count": 22,
   "id": "8a671d60",
   "metadata": {},
   "outputs": [],
   "source": [
    "from sklearn.model_selection import train_test_split\n",
    "from sklearn.preprocessing import StandardScaler\n",
    "\n",
    "X = diabetes_df.drop('Outcome', axis=1).values\n",
    "y = diabetes_df['Outcome'].values\n",
    "\n",
    "# Split into training and test set\n",
    "X_train, X_test, y_train, y_test = train_test_split(X, y, test_size = 0.2, random_state=42, stratify=y)\n",
    "\n",
    "# #Standardize\n",
    "sc= StandardScaler()\n",
    "X_train=sc.fit_transform(X_train)\n",
    "X_test=sc.fit_transform(X_test)"
   ]
  },
  {
   "cell_type": "code",
   "execution_count": 23,
   "id": "20d36c76",
   "metadata": {},
   "outputs": [
    {
     "name": "stdout",
     "output_type": "stream",
     "text": [
      "tensor([[-0.8514, -0.9801, -0.4048,  ..., -0.6077,  0.3108, -0.7922],\n",
      "        [ 0.3566,  0.1614,  0.4654,  ..., -0.3021, -0.1164,  0.5610],\n",
      "        [-0.5494, -0.5045, -0.6223,  ...,  0.3726, -0.7649, -0.7076],\n",
      "        ...,\n",
      "        [-0.8514, -0.7582,  0.0303,  ...,  0.7800, -0.7861, -0.2847],\n",
      "        [ 1.8665, -0.3142,  0.0303,  ..., -0.5695, -1.0194,  0.5610],\n",
      "        [ 0.0546,  0.7322, -0.6223,  ..., -0.3149, -0.5770,  0.3073]])\n"
     ]
    }
   ],
   "source": [
    "import torch.nn as nn\n",
    "import torch.nn.functional as F #this has activation functions\n",
    "\n",
    "# Creating tensors\n",
    "X_train = torch.FloatTensor(X_train)\n",
    "X_test = torch.FloatTensor(X_test)\n",
    "\n",
    "y_train = torch.LongTensor(y_train)\n",
    "y_test = torch.LongTensor(y_test)\n",
    "\n",
    "print(X_train)"
   ]
  },
  {
   "cell_type": "code",
   "execution_count": 24,
   "id": "05c3df7c",
   "metadata": {},
   "outputs": [],
   "source": [
    "class ANN_Model(nn.Module):\n",
    "    def __init__(self, input_features=8, hidden1=20, hidden2=20, out_features =2):\n",
    "        super().__init__()\n",
    "        self.layer_1_connection = nn.Linear(input_features, hidden1)\n",
    "        self.layer_2_connection = nn.Linear(hidden1, hidden2)\n",
    "        self.out = nn.Linear(hidden2, out_features)\n",
    "    \n",
    "    def forward(self, x):\n",
    "        #apply activation functions\n",
    "        x = F.relu(self.layer_1_connection(x))\n",
    "        x = F.relu(self.layer_2_connection(x))\n",
    "        x = self.out(x)\n",
    "        return x"
   ]
  },
  {
   "cell_type": "code",
   "execution_count": 25,
   "id": "040a905c",
   "metadata": {},
   "outputs": [],
   "source": [
    "torch.manual_seed(42)\n",
    "\n",
    "#instantiate the model\n",
    "model = ANN_Model()"
   ]
  },
  {
   "cell_type": "code",
   "execution_count": 27,
   "id": "9f7c2f82",
   "metadata": {},
   "outputs": [],
   "source": [
    "# loss function\n",
    "loss_function = nn.CrossEntropyLoss()\n",
    "\n",
    "#optimizer\n",
    "#optimizer = torch.optim.Adam(model.parameters(), lr = 0.01)\n",
    "\n",
    "optimizer = torch.optim.Adam(model.parameters(), lr=0.1)\n"
   ]
  },
  {
   "cell_type": "code",
   "execution_count": 28,
   "id": "1278d8ce",
   "metadata": {},
   "outputs": [
    {
     "name": "stdout",
     "output_type": "stream",
     "text": [
      "Epoch number: 1 with loss: 0.6151040196418762\n",
      "Epoch number: 11 with loss: 0.4274582266807556\n",
      "Epoch number: 21 with loss: 0.36235126852989197\n",
      "Epoch number: 31 with loss: 0.3042708933353424\n",
      "Epoch number: 41 with loss: 0.2522340416908264\n",
      "Epoch number: 51 with loss: 0.21815843880176544\n",
      "Epoch number: 61 with loss: 0.1969689428806305\n",
      "Epoch number: 71 with loss: 0.16857154667377472\n",
      "Epoch number: 81 with loss: 0.15262673795223236\n",
      "Epoch number: 91 with loss: 0.141379252076149\n",
      "Epoch number: 101 with loss: 0.1857585608959198\n",
      "Epoch number: 111 with loss: 0.16066332161426544\n",
      "Epoch number: 121 with loss: 0.1275348961353302\n",
      "Epoch number: 131 with loss: 0.1123829111456871\n",
      "Epoch number: 141 with loss: 0.09853900969028473\n",
      "Epoch number: 151 with loss: 0.08790972083806992\n",
      "Epoch number: 161 with loss: 0.08027870208024979\n",
      "Epoch number: 171 with loss: 0.07695543766021729\n",
      "Epoch number: 181 with loss: 0.07021258026361465\n",
      "Epoch number: 191 with loss: 0.06659486889839172\n",
      "Epoch number: 201 with loss: 0.06627029180526733\n",
      "Epoch number: 211 with loss: 0.06395919620990753\n",
      "Epoch number: 221 with loss: 0.06753500550985336\n",
      "Epoch number: 231 with loss: 0.16488595306873322\n",
      "Epoch number: 241 with loss: 0.20055349171161652\n",
      "Epoch number: 251 with loss: 0.16053618490695953\n",
      "Epoch number: 261 with loss: 0.1270492970943451\n",
      "Epoch number: 271 with loss: 0.1098443791270256\n",
      "Epoch number: 281 with loss: 0.1041635051369667\n",
      "Epoch number: 291 with loss: 0.09851929545402527\n",
      "Epoch number: 301 with loss: 0.09608371555805206\n",
      "Epoch number: 311 with loss: 0.09946157783269882\n",
      "Epoch number: 321 with loss: 0.09525396674871445\n",
      "Epoch number: 331 with loss: 0.09387864917516708\n",
      "Epoch number: 341 with loss: 0.09243301302194595\n",
      "Epoch number: 351 with loss: 0.09430709481239319\n",
      "Epoch number: 361 with loss: 0.09228958934545517\n",
      "Epoch number: 371 with loss: 0.08737779408693314\n",
      "Epoch number: 381 with loss: 0.08867821842432022\n",
      "Epoch number: 391 with loss: 0.08834603428840637\n",
      "Epoch number: 401 with loss: 0.08324608206748962\n",
      "Epoch number: 411 with loss: 0.08545812964439392\n",
      "Epoch number: 421 with loss: 0.08187077194452286\n",
      "Epoch number: 431 with loss: 0.08177992701530457\n",
      "Epoch number: 441 with loss: 0.08105498552322388\n",
      "Epoch number: 451 with loss: 0.0809539258480072\n",
      "Epoch number: 461 with loss: 0.08087185770273209\n",
      "Epoch number: 471 with loss: 0.08079016208648682\n",
      "Epoch number: 481 with loss: 0.08076556771993637\n",
      "Epoch number: 491 with loss: 0.08145318925380707\n"
     ]
    }
   ],
   "source": [
    "#run model through multiple epochs/iterations\n",
    "final_loss = []\n",
    "n_epochs = 500\n",
    "for epoch in range(n_epochs):\n",
    "    y_pred = model.forward(X_train)\n",
    "    loss = loss_function(y_pred, y_train)\n",
    "    final_loss.append(loss)\n",
    "    \n",
    "    if epoch % 10 == 1:\n",
    "        print(f'Epoch number: {epoch} with loss: {loss.item()}')\n",
    "    \n",
    "    optimizer.zero_grad() #zero the gradient before running backwards propagation\n",
    "    loss.backward() #for backward propagation \n",
    "    optimizer.step() #performs one optimization step each epoch\n",
    "    "
   ]
  },
  {
   "cell_type": "code",
   "execution_count": 29,
   "id": "8dda6dbe",
   "metadata": {},
   "outputs": [],
   "source": [
    "#predictions\n",
    "y_pred = []\n",
    "\n",
    "with torch.no_grad():\n",
    "    for i, data in enumerate(X_test):\n",
    "        prediction = model(data)\n",
    "        y_pred.append(prediction.argmax().item())\n"
   ]
  },
  {
   "cell_type": "code",
   "execution_count": 30,
   "id": "ce40ad49",
   "metadata": {},
   "outputs": [
    {
     "name": "stdout",
     "output_type": "stream",
     "text": [
      "0.6818181818181818\n"
     ]
    }
   ],
   "source": [
    "from sklearn.metrics import accuracy_score\n",
    "a_score = accuracy_score(y_test, y_pred)\n",
    "print(a_score)"
   ]
  },
  {
   "cell_type": "code",
   "execution_count": 31,
   "id": "26f56122",
   "metadata": {},
   "outputs": [
    {
     "name": "stdout",
     "output_type": "stream",
     "text": [
      "              precision    recall  f1-score   support\n",
      "\n",
      "           0       0.76      0.74      0.75       100\n",
      "           1       0.54      0.57      0.56        54\n",
      "\n",
      "    accuracy                           0.68       154\n",
      "   macro avg       0.65      0.66      0.65       154\n",
      "weighted avg       0.69      0.68      0.68       154\n",
      "\n"
     ]
    }
   ],
   "source": [
    "from sklearn.metrics import classification_report\n",
    "\n",
    "print(classification_report(y_test, y_pred))"
   ]
  },
  {
   "cell_type": "code",
   "execution_count": null,
   "id": "ca3cc49b",
   "metadata": {},
   "outputs": [],
   "source": [
    "USING SGD Algorithm accuracy is .68%"
   ]
  },
  {
   "cell_type": "markdown",
   "id": "b0ede0fd",
   "metadata": {},
   "source": [
    "### Write a function that lists and counts the number of divisors for an input value. \n"
   ]
  },
  {
   "cell_type": "markdown",
   "id": "04743580",
   "metadata": {},
   "source": [
    "Example 1: \n",
    "    \n",
    "Input: 5 \n",
    "        \n",
    "Output: “There are 2 divisors: 1 and 5"
   ]
  },
  {
   "cell_type": "code",
   "execution_count": 10,
   "id": "b640e99a",
   "metadata": {},
   "outputs": [
    {
     "name": "stdout",
     "output_type": "stream",
     "text": [
      "The factors of 40 are:\n",
      "1\n",
      "2\n",
      "4\n",
      "5\n",
      "8\n",
      "10\n",
      "20\n",
      "40\n"
     ]
    }
   ],
   "source": [
    "def divisor(x):\n",
    "   print(\"The factors of\",x,\"are:\")\n",
    "   for i in range(1, x + 1):\n",
    "       if x % i == 0:\n",
    "           print(i)\n",
    "\n",
    "num = 40\n",
    "\n",
    "divisor(num)\n"
   ]
  },
  {
   "cell_type": "code",
   "execution_count": null,
   "id": "c28ccba8",
   "metadata": {},
   "outputs": [],
   "source": []
  }
 ],
 "metadata": {
  "kernelspec": {
   "display_name": "Python 3",
   "language": "python",
   "name": "python3"
  },
  "language_info": {
   "codemirror_mode": {
    "name": "ipython",
    "version": 3
   },
   "file_extension": ".py",
   "mimetype": "text/x-python",
   "name": "python",
   "nbconvert_exporter": "python",
   "pygments_lexer": "ipython3",
   "version": "3.8.8"
  }
 },
 "nbformat": 4,
 "nbformat_minor": 5
}
