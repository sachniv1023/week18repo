{
 "cells": [
  {
   "cell_type": "markdown",
   "id": "9c66893c",
   "metadata": {},
   "source": [
    "#### 1.What is a neural network? What are the general steps required to build a neural network? "
   ]
  },
  {
   "cell_type": "markdown",
   "id": "8cb63d53",
   "metadata": {},
   "source": [
    "A neural network is a series of algorithms that endeavors to recognize underlying relationships in a set of data through\n",
    "a process that mimics the way the human brain operates. \n",
    "In this sense, neural networks refer to systems of neurons, either organic or artificial in nature."
   ]
  },
  {
   "cell_type": "markdown",
   "id": "aabc4d9c",
   "metadata": {},
   "source": [
    "Build a neural network in 7 steps\n",
    "\n",
    "    Create an approximation project.\n",
    "\n",
    "    Configure data set.\n",
    "\n",
    "    Set network architecture.\n",
    "\n",
    "    Train neural network.\n",
    "\n",
    "    Improve generalization performance.\n",
    "\n",
    "    Test results.\n",
    "\n",
    "    Deploy model.\n"
   ]
  },
  {
   "cell_type": "markdown",
   "id": "40a22c69",
   "metadata": {},
   "source": [
    "#### 2.Generally, how do you check the performance of a neural network? Why? "
   ]
  },
  {
   "cell_type": "markdown",
   "id": "cd9dcab3",
   "metadata": {},
   "source": [
    "Divide your training set in a real training set and a validation set using one of these methods:\n",
    "\n",
    "    (k-fold / leave-one-out) Cross-validation\n",
    "    stratified holdout\n",
    "    0.632 bootstrap\n",
    "    \n",
    "Measure the performance of the ANN with one of these metrics:\n",
    "\n",
    "    TP rate\n",
    "    FP rate\n",
    "    F-measure\n",
    "    accuracy\n",
    "    precision and recall"
   ]
  },
  {
   "cell_type": "markdown",
   "id": "ef243bf5",
   "metadata": {},
   "source": [
    "Many methods were implemented to measure the performance of neural networks such as MSE , NMSE , RMSE, \n",
    "R square for regression. \n",
    "And TP rate ,FP rate , F-measure , accuracy , precision and recall for classification. "
   ]
  },
  {
   "cell_type": "markdown",
   "id": "00b8a17f",
   "metadata": {},
   "source": [
    "we r checking the performance of the neural network by this methods to get the accuracy of the model."
   ]
  },
  {
   "cell_type": "markdown",
   "id": "4f3a8763",
   "metadata": {},
   "source": [
    "#### 3.Create a neural network using keras to predict the outcome of either of these datasets: \n",
    "Cardiac Arrhythmia: https://archive.ics.uci.edu/ml/datasets/Arrhythmia \n",
    "\n",
    "Abalone age: https://archive.ics.uci.edu/ml/datasets/Abalone"
   ]
  },
  {
   "cell_type": "markdown",
   "id": "27c78be1",
   "metadata": {},
   "source": [
    "#### using Ablone dataset"
   ]
  },
  {
   "cell_type": "code",
   "execution_count": 42,
   "id": "9b5348b2",
   "metadata": {},
   "outputs": [
    {
     "data": {
      "text/html": [
       "<div>\n",
       "<style scoped>\n",
       "    .dataframe tbody tr th:only-of-type {\n",
       "        vertical-align: middle;\n",
       "    }\n",
       "\n",
       "    .dataframe tbody tr th {\n",
       "        vertical-align: top;\n",
       "    }\n",
       "\n",
       "    .dataframe thead th {\n",
       "        text-align: right;\n",
       "    }\n",
       "</style>\n",
       "<table border=\"1\" class=\"dataframe\">\n",
       "  <thead>\n",
       "    <tr style=\"text-align: right;\">\n",
       "      <th></th>\n",
       "      <th>sex</th>\n",
       "      <th>Length</th>\n",
       "      <th>Diameter</th>\n",
       "      <th>Height</th>\n",
       "      <th>Whole Weight</th>\n",
       "      <th>Schucked Weight</th>\n",
       "      <th>Viscera Weight</th>\n",
       "      <th>Shell Weight</th>\n",
       "      <th>Rings</th>\n",
       "    </tr>\n",
       "  </thead>\n",
       "  <tbody>\n",
       "    <tr>\n",
       "      <th>0</th>\n",
       "      <td>M</td>\n",
       "      <td>0.455</td>\n",
       "      <td>0.365</td>\n",
       "      <td>0.095</td>\n",
       "      <td>0.5140</td>\n",
       "      <td>0.2245</td>\n",
       "      <td>0.1010</td>\n",
       "      <td>0.1500</td>\n",
       "      <td>15</td>\n",
       "    </tr>\n",
       "    <tr>\n",
       "      <th>1</th>\n",
       "      <td>M</td>\n",
       "      <td>0.350</td>\n",
       "      <td>0.265</td>\n",
       "      <td>0.090</td>\n",
       "      <td>0.2255</td>\n",
       "      <td>0.0995</td>\n",
       "      <td>0.0485</td>\n",
       "      <td>0.0700</td>\n",
       "      <td>7</td>\n",
       "    </tr>\n",
       "    <tr>\n",
       "      <th>2</th>\n",
       "      <td>F</td>\n",
       "      <td>0.530</td>\n",
       "      <td>0.420</td>\n",
       "      <td>0.135</td>\n",
       "      <td>0.6770</td>\n",
       "      <td>0.2565</td>\n",
       "      <td>0.1415</td>\n",
       "      <td>0.2100</td>\n",
       "      <td>9</td>\n",
       "    </tr>\n",
       "    <tr>\n",
       "      <th>3</th>\n",
       "      <td>M</td>\n",
       "      <td>0.440</td>\n",
       "      <td>0.365</td>\n",
       "      <td>0.125</td>\n",
       "      <td>0.5160</td>\n",
       "      <td>0.2155</td>\n",
       "      <td>0.1140</td>\n",
       "      <td>0.1550</td>\n",
       "      <td>10</td>\n",
       "    </tr>\n",
       "    <tr>\n",
       "      <th>4</th>\n",
       "      <td>I</td>\n",
       "      <td>0.330</td>\n",
       "      <td>0.255</td>\n",
       "      <td>0.080</td>\n",
       "      <td>0.2050</td>\n",
       "      <td>0.0895</td>\n",
       "      <td>0.0395</td>\n",
       "      <td>0.0550</td>\n",
       "      <td>7</td>\n",
       "    </tr>\n",
       "    <tr>\n",
       "      <th>...</th>\n",
       "      <td>...</td>\n",
       "      <td>...</td>\n",
       "      <td>...</td>\n",
       "      <td>...</td>\n",
       "      <td>...</td>\n",
       "      <td>...</td>\n",
       "      <td>...</td>\n",
       "      <td>...</td>\n",
       "      <td>...</td>\n",
       "    </tr>\n",
       "    <tr>\n",
       "      <th>4172</th>\n",
       "      <td>F</td>\n",
       "      <td>0.565</td>\n",
       "      <td>0.450</td>\n",
       "      <td>0.165</td>\n",
       "      <td>0.8870</td>\n",
       "      <td>0.3700</td>\n",
       "      <td>0.2390</td>\n",
       "      <td>0.2490</td>\n",
       "      <td>11</td>\n",
       "    </tr>\n",
       "    <tr>\n",
       "      <th>4173</th>\n",
       "      <td>M</td>\n",
       "      <td>0.590</td>\n",
       "      <td>0.440</td>\n",
       "      <td>0.135</td>\n",
       "      <td>0.9660</td>\n",
       "      <td>0.4390</td>\n",
       "      <td>0.2145</td>\n",
       "      <td>0.2605</td>\n",
       "      <td>10</td>\n",
       "    </tr>\n",
       "    <tr>\n",
       "      <th>4174</th>\n",
       "      <td>M</td>\n",
       "      <td>0.600</td>\n",
       "      <td>0.475</td>\n",
       "      <td>0.205</td>\n",
       "      <td>1.1760</td>\n",
       "      <td>0.5255</td>\n",
       "      <td>0.2875</td>\n",
       "      <td>0.3080</td>\n",
       "      <td>9</td>\n",
       "    </tr>\n",
       "    <tr>\n",
       "      <th>4175</th>\n",
       "      <td>F</td>\n",
       "      <td>0.625</td>\n",
       "      <td>0.485</td>\n",
       "      <td>0.150</td>\n",
       "      <td>1.0945</td>\n",
       "      <td>0.5310</td>\n",
       "      <td>0.2610</td>\n",
       "      <td>0.2960</td>\n",
       "      <td>10</td>\n",
       "    </tr>\n",
       "    <tr>\n",
       "      <th>4176</th>\n",
       "      <td>M</td>\n",
       "      <td>0.710</td>\n",
       "      <td>0.555</td>\n",
       "      <td>0.195</td>\n",
       "      <td>1.9485</td>\n",
       "      <td>0.9455</td>\n",
       "      <td>0.3765</td>\n",
       "      <td>0.4950</td>\n",
       "      <td>12</td>\n",
       "    </tr>\n",
       "  </tbody>\n",
       "</table>\n",
       "<p>4177 rows × 9 columns</p>\n",
       "</div>"
      ],
      "text/plain": [
       "     sex  Length  Diameter   Height  Whole Weight  Schucked Weight  \\\n",
       "0      M   0.455      0.365   0.095        0.5140           0.2245   \n",
       "1      M   0.350      0.265   0.090        0.2255           0.0995   \n",
       "2      F   0.530      0.420   0.135        0.6770           0.2565   \n",
       "3      M   0.440      0.365   0.125        0.5160           0.2155   \n",
       "4      I   0.330      0.255   0.080        0.2050           0.0895   \n",
       "...   ..     ...        ...     ...           ...              ...   \n",
       "4172   F   0.565      0.450   0.165        0.8870           0.3700   \n",
       "4173   M   0.590      0.440   0.135        0.9660           0.4390   \n",
       "4174   M   0.600      0.475   0.205        1.1760           0.5255   \n",
       "4175   F   0.625      0.485   0.150        1.0945           0.5310   \n",
       "4176   M   0.710      0.555   0.195        1.9485           0.9455   \n",
       "\n",
       "      Viscera Weight   Shell Weight   Rings  \n",
       "0              0.1010         0.1500     15  \n",
       "1              0.0485         0.0700      7  \n",
       "2              0.1415         0.2100      9  \n",
       "3              0.1140         0.1550     10  \n",
       "4              0.0395         0.0550      7  \n",
       "...               ...            ...    ...  \n",
       "4172           0.2390         0.2490     11  \n",
       "4173           0.2145         0.2605     10  \n",
       "4174           0.2875         0.3080      9  \n",
       "4175           0.2610         0.2960     10  \n",
       "4176           0.3765         0.4950     12  \n",
       "\n",
       "[4177 rows x 9 columns]"
      ]
     },
     "execution_count": 42,
     "metadata": {},
     "output_type": "execute_result"
    }
   ],
   "source": [
    "#Step 1: Assessing and Processing Data\n",
    "#Import relevant libraries\n",
    "import numpy as np\n",
    "import pandas as pd\n",
    "import seaborn as sns\n",
    "import matplotlib.pyplot as plt\n",
    "\n",
    " \n",
    "import pandas as pd \n",
    "dataset = pd.read_csv('../week17repo/Abalone.CSV',header=None,names=['sex','Length', 'Diameter ', 'Height', 'Whole Weight', 'Schucked Weight','Viscera Weight ','Shell Weight ','Rings'])\n",
    "dataset \n"
   ]
  },
  {
   "cell_type": "code",
   "execution_count": 43,
   "id": "df5b157d",
   "metadata": {},
   "outputs": [
    {
     "data": {
      "text/plain": [
       "M    1528\n",
       "I    1342\n",
       "F    1307\n",
       "Name: sex, dtype: int64"
      ]
     },
     "execution_count": 43,
     "metadata": {},
     "output_type": "execute_result"
    }
   ],
   "source": [
    "dataset.sex.value_counts()"
   ]
  },
  {
   "cell_type": "code",
   "execution_count": 44,
   "id": "abc7de83",
   "metadata": {},
   "outputs": [
    {
     "data": {
      "text/html": [
       "<div>\n",
       "<style scoped>\n",
       "    .dataframe tbody tr th:only-of-type {\n",
       "        vertical-align: middle;\n",
       "    }\n",
       "\n",
       "    .dataframe tbody tr th {\n",
       "        vertical-align: top;\n",
       "    }\n",
       "\n",
       "    .dataframe thead th {\n",
       "        text-align: right;\n",
       "    }\n",
       "</style>\n",
       "<table border=\"1\" class=\"dataframe\">\n",
       "  <thead>\n",
       "    <tr style=\"text-align: right;\">\n",
       "      <th></th>\n",
       "      <th>Length</th>\n",
       "      <th>Diameter</th>\n",
       "      <th>Height</th>\n",
       "      <th>Whole Weight</th>\n",
       "      <th>Schucked Weight</th>\n",
       "      <th>Viscera Weight</th>\n",
       "      <th>Shell Weight</th>\n",
       "      <th>Rings</th>\n",
       "      <th>M</th>\n",
       "      <th>F</th>\n",
       "      <th>I</th>\n",
       "    </tr>\n",
       "  </thead>\n",
       "  <tbody>\n",
       "    <tr>\n",
       "      <th>0</th>\n",
       "      <td>0.455</td>\n",
       "      <td>0.365</td>\n",
       "      <td>0.095</td>\n",
       "      <td>0.5140</td>\n",
       "      <td>0.2245</td>\n",
       "      <td>0.1010</td>\n",
       "      <td>0.1500</td>\n",
       "      <td>15</td>\n",
       "      <td>1.0</td>\n",
       "      <td>0.0</td>\n",
       "      <td>0.0</td>\n",
       "    </tr>\n",
       "    <tr>\n",
       "      <th>1</th>\n",
       "      <td>0.350</td>\n",
       "      <td>0.265</td>\n",
       "      <td>0.090</td>\n",
       "      <td>0.2255</td>\n",
       "      <td>0.0995</td>\n",
       "      <td>0.0485</td>\n",
       "      <td>0.0700</td>\n",
       "      <td>7</td>\n",
       "      <td>1.0</td>\n",
       "      <td>0.0</td>\n",
       "      <td>0.0</td>\n",
       "    </tr>\n",
       "    <tr>\n",
       "      <th>2</th>\n",
       "      <td>0.530</td>\n",
       "      <td>0.420</td>\n",
       "      <td>0.135</td>\n",
       "      <td>0.6770</td>\n",
       "      <td>0.2565</td>\n",
       "      <td>0.1415</td>\n",
       "      <td>0.2100</td>\n",
       "      <td>9</td>\n",
       "      <td>0.0</td>\n",
       "      <td>1.0</td>\n",
       "      <td>0.0</td>\n",
       "    </tr>\n",
       "    <tr>\n",
       "      <th>3</th>\n",
       "      <td>0.440</td>\n",
       "      <td>0.365</td>\n",
       "      <td>0.125</td>\n",
       "      <td>0.5160</td>\n",
       "      <td>0.2155</td>\n",
       "      <td>0.1140</td>\n",
       "      <td>0.1550</td>\n",
       "      <td>10</td>\n",
       "      <td>1.0</td>\n",
       "      <td>0.0</td>\n",
       "      <td>0.0</td>\n",
       "    </tr>\n",
       "    <tr>\n",
       "      <th>4</th>\n",
       "      <td>0.330</td>\n",
       "      <td>0.255</td>\n",
       "      <td>0.080</td>\n",
       "      <td>0.2050</td>\n",
       "      <td>0.0895</td>\n",
       "      <td>0.0395</td>\n",
       "      <td>0.0550</td>\n",
       "      <td>7</td>\n",
       "      <td>0.0</td>\n",
       "      <td>0.0</td>\n",
       "      <td>1.0</td>\n",
       "    </tr>\n",
       "    <tr>\n",
       "      <th>...</th>\n",
       "      <td>...</td>\n",
       "      <td>...</td>\n",
       "      <td>...</td>\n",
       "      <td>...</td>\n",
       "      <td>...</td>\n",
       "      <td>...</td>\n",
       "      <td>...</td>\n",
       "      <td>...</td>\n",
       "      <td>...</td>\n",
       "      <td>...</td>\n",
       "      <td>...</td>\n",
       "    </tr>\n",
       "    <tr>\n",
       "      <th>4172</th>\n",
       "      <td>0.565</td>\n",
       "      <td>0.450</td>\n",
       "      <td>0.165</td>\n",
       "      <td>0.8870</td>\n",
       "      <td>0.3700</td>\n",
       "      <td>0.2390</td>\n",
       "      <td>0.2490</td>\n",
       "      <td>11</td>\n",
       "      <td>0.0</td>\n",
       "      <td>1.0</td>\n",
       "      <td>0.0</td>\n",
       "    </tr>\n",
       "    <tr>\n",
       "      <th>4173</th>\n",
       "      <td>0.590</td>\n",
       "      <td>0.440</td>\n",
       "      <td>0.135</td>\n",
       "      <td>0.9660</td>\n",
       "      <td>0.4390</td>\n",
       "      <td>0.2145</td>\n",
       "      <td>0.2605</td>\n",
       "      <td>10</td>\n",
       "      <td>1.0</td>\n",
       "      <td>0.0</td>\n",
       "      <td>0.0</td>\n",
       "    </tr>\n",
       "    <tr>\n",
       "      <th>4174</th>\n",
       "      <td>0.600</td>\n",
       "      <td>0.475</td>\n",
       "      <td>0.205</td>\n",
       "      <td>1.1760</td>\n",
       "      <td>0.5255</td>\n",
       "      <td>0.2875</td>\n",
       "      <td>0.3080</td>\n",
       "      <td>9</td>\n",
       "      <td>1.0</td>\n",
       "      <td>0.0</td>\n",
       "      <td>0.0</td>\n",
       "    </tr>\n",
       "    <tr>\n",
       "      <th>4175</th>\n",
       "      <td>0.625</td>\n",
       "      <td>0.485</td>\n",
       "      <td>0.150</td>\n",
       "      <td>1.0945</td>\n",
       "      <td>0.5310</td>\n",
       "      <td>0.2610</td>\n",
       "      <td>0.2960</td>\n",
       "      <td>10</td>\n",
       "      <td>0.0</td>\n",
       "      <td>1.0</td>\n",
       "      <td>0.0</td>\n",
       "    </tr>\n",
       "    <tr>\n",
       "      <th>4176</th>\n",
       "      <td>0.710</td>\n",
       "      <td>0.555</td>\n",
       "      <td>0.195</td>\n",
       "      <td>1.9485</td>\n",
       "      <td>0.9455</td>\n",
       "      <td>0.3765</td>\n",
       "      <td>0.4950</td>\n",
       "      <td>12</td>\n",
       "      <td>1.0</td>\n",
       "      <td>0.0</td>\n",
       "      <td>0.0</td>\n",
       "    </tr>\n",
       "  </tbody>\n",
       "</table>\n",
       "<p>4177 rows × 11 columns</p>\n",
       "</div>"
      ],
      "text/plain": [
       "      Length  Diameter   Height  Whole Weight  Schucked Weight  \\\n",
       "0      0.455      0.365   0.095        0.5140           0.2245   \n",
       "1      0.350      0.265   0.090        0.2255           0.0995   \n",
       "2      0.530      0.420   0.135        0.6770           0.2565   \n",
       "3      0.440      0.365   0.125        0.5160           0.2155   \n",
       "4      0.330      0.255   0.080        0.2050           0.0895   \n",
       "...      ...        ...     ...           ...              ...   \n",
       "4172   0.565      0.450   0.165        0.8870           0.3700   \n",
       "4173   0.590      0.440   0.135        0.9660           0.4390   \n",
       "4174   0.600      0.475   0.205        1.1760           0.5255   \n",
       "4175   0.625      0.485   0.150        1.0945           0.5310   \n",
       "4176   0.710      0.555   0.195        1.9485           0.9455   \n",
       "\n",
       "      Viscera Weight   Shell Weight   Rings    M    F    I  \n",
       "0              0.1010         0.1500     15  1.0  0.0  0.0  \n",
       "1              0.0485         0.0700      7  1.0  0.0  0.0  \n",
       "2              0.1415         0.2100      9  0.0  1.0  0.0  \n",
       "3              0.1140         0.1550     10  1.0  0.0  0.0  \n",
       "4              0.0395         0.0550      7  0.0  0.0  1.0  \n",
       "...               ...            ...    ...  ...  ...  ...  \n",
       "4172           0.2390         0.2490     11  0.0  1.0  0.0  \n",
       "4173           0.2145         0.2605     10  1.0  0.0  0.0  \n",
       "4174           0.2875         0.3080      9  1.0  0.0  0.0  \n",
       "4175           0.2610         0.2960     10  0.0  1.0  0.0  \n",
       "4176           0.3765         0.4950     12  1.0  0.0  0.0  \n",
       "\n",
       "[4177 rows x 11 columns]"
      ]
     },
     "execution_count": 44,
     "metadata": {},
     "output_type": "execute_result"
    }
   ],
   "source": [
    "#One hot encoding for categorical gender variable\n",
    " \n",
    "Gender = dataset.pop('sex')\n",
    " \n",
    "dataset['M'] = (Gender == 'M')*1.0\n",
    "dataset['F'] = (Gender == 'F')*1.0\n",
    "dataset['I'] = (Gender == 'I')*1.0\n",
    "dataset"
   ]
  },
  {
   "cell_type": "code",
   "execution_count": 45,
   "id": "41023837",
   "metadata": {},
   "outputs": [
    {
     "data": {
      "text/html": [
       "<div>\n",
       "<style scoped>\n",
       "    .dataframe tbody tr th:only-of-type {\n",
       "        vertical-align: middle;\n",
       "    }\n",
       "\n",
       "    .dataframe tbody tr th {\n",
       "        vertical-align: top;\n",
       "    }\n",
       "\n",
       "    .dataframe thead th {\n",
       "        text-align: right;\n",
       "    }\n",
       "</style>\n",
       "<table border=\"1\" class=\"dataframe\">\n",
       "  <thead>\n",
       "    <tr style=\"text-align: right;\">\n",
       "      <th></th>\n",
       "      <th>Length</th>\n",
       "      <th>Diameter</th>\n",
       "      <th>Height</th>\n",
       "      <th>Whole Weight</th>\n",
       "      <th>Schucked Weight</th>\n",
       "      <th>Viscera Weight</th>\n",
       "      <th>Shell Weight</th>\n",
       "      <th>M</th>\n",
       "      <th>F</th>\n",
       "      <th>I</th>\n",
       "      <th>Rings</th>\n",
       "    </tr>\n",
       "  </thead>\n",
       "  <tbody>\n",
       "    <tr>\n",
       "      <th>0</th>\n",
       "      <td>0.455</td>\n",
       "      <td>0.365</td>\n",
       "      <td>0.095</td>\n",
       "      <td>0.5140</td>\n",
       "      <td>0.2245</td>\n",
       "      <td>0.1010</td>\n",
       "      <td>0.1500</td>\n",
       "      <td>1.0</td>\n",
       "      <td>0.0</td>\n",
       "      <td>0.0</td>\n",
       "      <td>15</td>\n",
       "    </tr>\n",
       "    <tr>\n",
       "      <th>1</th>\n",
       "      <td>0.350</td>\n",
       "      <td>0.265</td>\n",
       "      <td>0.090</td>\n",
       "      <td>0.2255</td>\n",
       "      <td>0.0995</td>\n",
       "      <td>0.0485</td>\n",
       "      <td>0.0700</td>\n",
       "      <td>1.0</td>\n",
       "      <td>0.0</td>\n",
       "      <td>0.0</td>\n",
       "      <td>7</td>\n",
       "    </tr>\n",
       "    <tr>\n",
       "      <th>2</th>\n",
       "      <td>0.530</td>\n",
       "      <td>0.420</td>\n",
       "      <td>0.135</td>\n",
       "      <td>0.6770</td>\n",
       "      <td>0.2565</td>\n",
       "      <td>0.1415</td>\n",
       "      <td>0.2100</td>\n",
       "      <td>0.0</td>\n",
       "      <td>1.0</td>\n",
       "      <td>0.0</td>\n",
       "      <td>9</td>\n",
       "    </tr>\n",
       "    <tr>\n",
       "      <th>3</th>\n",
       "      <td>0.440</td>\n",
       "      <td>0.365</td>\n",
       "      <td>0.125</td>\n",
       "      <td>0.5160</td>\n",
       "      <td>0.2155</td>\n",
       "      <td>0.1140</td>\n",
       "      <td>0.1550</td>\n",
       "      <td>1.0</td>\n",
       "      <td>0.0</td>\n",
       "      <td>0.0</td>\n",
       "      <td>10</td>\n",
       "    </tr>\n",
       "    <tr>\n",
       "      <th>4</th>\n",
       "      <td>0.330</td>\n",
       "      <td>0.255</td>\n",
       "      <td>0.080</td>\n",
       "      <td>0.2050</td>\n",
       "      <td>0.0895</td>\n",
       "      <td>0.0395</td>\n",
       "      <td>0.0550</td>\n",
       "      <td>0.0</td>\n",
       "      <td>0.0</td>\n",
       "      <td>1.0</td>\n",
       "      <td>7</td>\n",
       "    </tr>\n",
       "    <tr>\n",
       "      <th>...</th>\n",
       "      <td>...</td>\n",
       "      <td>...</td>\n",
       "      <td>...</td>\n",
       "      <td>...</td>\n",
       "      <td>...</td>\n",
       "      <td>...</td>\n",
       "      <td>...</td>\n",
       "      <td>...</td>\n",
       "      <td>...</td>\n",
       "      <td>...</td>\n",
       "      <td>...</td>\n",
       "    </tr>\n",
       "    <tr>\n",
       "      <th>4172</th>\n",
       "      <td>0.565</td>\n",
       "      <td>0.450</td>\n",
       "      <td>0.165</td>\n",
       "      <td>0.8870</td>\n",
       "      <td>0.3700</td>\n",
       "      <td>0.2390</td>\n",
       "      <td>0.2490</td>\n",
       "      <td>0.0</td>\n",
       "      <td>1.0</td>\n",
       "      <td>0.0</td>\n",
       "      <td>11</td>\n",
       "    </tr>\n",
       "    <tr>\n",
       "      <th>4173</th>\n",
       "      <td>0.590</td>\n",
       "      <td>0.440</td>\n",
       "      <td>0.135</td>\n",
       "      <td>0.9660</td>\n",
       "      <td>0.4390</td>\n",
       "      <td>0.2145</td>\n",
       "      <td>0.2605</td>\n",
       "      <td>1.0</td>\n",
       "      <td>0.0</td>\n",
       "      <td>0.0</td>\n",
       "      <td>10</td>\n",
       "    </tr>\n",
       "    <tr>\n",
       "      <th>4174</th>\n",
       "      <td>0.600</td>\n",
       "      <td>0.475</td>\n",
       "      <td>0.205</td>\n",
       "      <td>1.1760</td>\n",
       "      <td>0.5255</td>\n",
       "      <td>0.2875</td>\n",
       "      <td>0.3080</td>\n",
       "      <td>1.0</td>\n",
       "      <td>0.0</td>\n",
       "      <td>0.0</td>\n",
       "      <td>9</td>\n",
       "    </tr>\n",
       "    <tr>\n",
       "      <th>4175</th>\n",
       "      <td>0.625</td>\n",
       "      <td>0.485</td>\n",
       "      <td>0.150</td>\n",
       "      <td>1.0945</td>\n",
       "      <td>0.5310</td>\n",
       "      <td>0.2610</td>\n",
       "      <td>0.2960</td>\n",
       "      <td>0.0</td>\n",
       "      <td>1.0</td>\n",
       "      <td>0.0</td>\n",
       "      <td>10</td>\n",
       "    </tr>\n",
       "    <tr>\n",
       "      <th>4176</th>\n",
       "      <td>0.710</td>\n",
       "      <td>0.555</td>\n",
       "      <td>0.195</td>\n",
       "      <td>1.9485</td>\n",
       "      <td>0.9455</td>\n",
       "      <td>0.3765</td>\n",
       "      <td>0.4950</td>\n",
       "      <td>1.0</td>\n",
       "      <td>0.0</td>\n",
       "      <td>0.0</td>\n",
       "      <td>12</td>\n",
       "    </tr>\n",
       "  </tbody>\n",
       "</table>\n",
       "<p>4177 rows × 11 columns</p>\n",
       "</div>"
      ],
      "text/plain": [
       "      Length  Diameter   Height  Whole Weight  Schucked Weight  \\\n",
       "0      0.455      0.365   0.095        0.5140           0.2245   \n",
       "1      0.350      0.265   0.090        0.2255           0.0995   \n",
       "2      0.530      0.420   0.135        0.6770           0.2565   \n",
       "3      0.440      0.365   0.125        0.5160           0.2155   \n",
       "4      0.330      0.255   0.080        0.2050           0.0895   \n",
       "...      ...        ...     ...           ...              ...   \n",
       "4172   0.565      0.450   0.165        0.8870           0.3700   \n",
       "4173   0.590      0.440   0.135        0.9660           0.4390   \n",
       "4174   0.600      0.475   0.205        1.1760           0.5255   \n",
       "4175   0.625      0.485   0.150        1.0945           0.5310   \n",
       "4176   0.710      0.555   0.195        1.9485           0.9455   \n",
       "\n",
       "      Viscera Weight   Shell Weight     M    F    I  Rings  \n",
       "0              0.1010         0.1500  1.0  0.0  0.0     15  \n",
       "1              0.0485         0.0700  1.0  0.0  0.0      7  \n",
       "2              0.1415         0.2100  0.0  1.0  0.0      9  \n",
       "3              0.1140         0.1550  1.0  0.0  0.0     10  \n",
       "4              0.0395         0.0550  0.0  0.0  1.0      7  \n",
       "...               ...            ...  ...  ...  ...    ...  \n",
       "4172           0.2390         0.2490  0.0  1.0  0.0     11  \n",
       "4173           0.2145         0.2605  1.0  0.0  0.0     10  \n",
       "4174           0.2875         0.3080  1.0  0.0  0.0      9  \n",
       "4175           0.2610         0.2960  0.0  1.0  0.0     10  \n",
       "4176           0.3765         0.4950  1.0  0.0  0.0     12  \n",
       "\n",
       "[4177 rows x 11 columns]"
      ]
     },
     "execution_count": 45,
     "metadata": {},
     "output_type": "execute_result"
    }
   ],
   "source": [
    "#Reorder Columns\n",
    " \n",
    "dataset = dataset[['Length', 'Diameter ', 'Height', 'Whole Weight', 'Schucked Weight','Viscera Weight ','Shell Weight ','M','F','I','Rings']]\n",
    "dataset"
   ]
  },
  {
   "cell_type": "code",
   "execution_count": 46,
   "id": "337762d9",
   "metadata": {},
   "outputs": [],
   "source": [
    "#Separate input data and labels\n",
    "X=dataset.iloc[:,0:10]\n",
    "y=dataset.iloc[:,10].values\n",
    " \n",
    "#Normalize the data using the min-max scalar\n",
    " \n",
    "from sklearn.preprocessing import MinMaxScaler\n",
    "scalar= MinMaxScaler()\n",
    "X= scalar.fit_transform(X)\n",
    "y= y.reshape(-1,1)\n",
    "y=scalar.fit_transform(y)"
   ]
  },
  {
   "cell_type": "markdown",
   "id": "3820a9fd",
   "metadata": {},
   "source": [
    "We then split the data into a training set that is composed of 80% of the dataset. The remaining 20% is the testing set."
   ]
  },
  {
   "cell_type": "markdown",
   "id": "76758c15",
   "metadata": {},
   "source": [
    "Building and Training the Model"
   ]
  },
  {
   "cell_type": "markdown",
   "id": "90c20514",
   "metadata": {},
   "source": [
    "Then we build the Keras structure. The core of this structure is the model, which is of the “Sequential” form. This is the simplest style of model and is composed of a linear stack of layers."
   ]
  },
  {
   "cell_type": "code",
   "execution_count": 22,
   "id": "1bf9cd3b",
   "metadata": {},
   "outputs": [
    {
     "name": "stdout",
     "output_type": "stream",
     "text": [
      "Epoch 1/100\n",
      "535/535 [==============================] - 2s 4ms/step - loss: 0.0112 - mae: 0.0764 - mse: 0.0112 - val_loss: 0.0080 - val_mae: 0.0618 - val_mse: 0.0080\n",
      "Epoch 2/100\n",
      "535/535 [==============================] - 2s 3ms/step - loss: 0.0081 - mae: 0.0639 - mse: 0.0081 - val_loss: 0.0072 - val_mae: 0.0592 - val_mse: 0.0072\n",
      "Epoch 3/100\n",
      "535/535 [==============================] - 2s 3ms/step - loss: 0.0075 - mae: 0.0614 - mse: 0.0075 - val_loss: 0.0067 - val_mae: 0.0585 - val_mse: 0.0067\n",
      "Epoch 4/100\n",
      "535/535 [==============================] - 2s 3ms/step - loss: 0.0072 - mae: 0.0600 - mse: 0.0072 - val_loss: 0.0068 - val_mae: 0.0635 - val_mse: 0.0068\n",
      "Epoch 5/100\n",
      "535/535 [==============================] - 2s 3ms/step - loss: 0.0071 - mae: 0.0598 - mse: 0.0071 - val_loss: 0.0064 - val_mae: 0.0555 - val_mse: 0.0064\n",
      "Epoch 6/100\n",
      "535/535 [==============================] - 2s 3ms/step - loss: 0.0069 - mae: 0.0585 - mse: 0.0069 - val_loss: 0.0062 - val_mae: 0.0588 - val_mse: 0.0062\n",
      "Epoch 7/100\n",
      "535/535 [==============================] - 2s 3ms/step - loss: 0.0068 - mae: 0.0583 - mse: 0.0068 - val_loss: 0.0060 - val_mae: 0.0567 - val_mse: 0.0060\n",
      "Epoch 8/100\n",
      "535/535 [==============================] - 2s 4ms/step - loss: 0.0066 - mae: 0.0581 - mse: 0.0066 - val_loss: 0.0060 - val_mae: 0.0570 - val_mse: 0.0060\n",
      "Epoch 9/100\n",
      "535/535 [==============================] - 2s 4ms/step - loss: 0.0066 - mae: 0.0582 - mse: 0.0066 - val_loss: 0.0059 - val_mae: 0.0552 - val_mse: 0.0059\n",
      "Epoch 10/100\n",
      "535/535 [==============================] - 2s 3ms/step - loss: 0.0065 - mae: 0.0576 - mse: 0.0065 - val_loss: 0.0059 - val_mae: 0.0547 - val_mse: 0.0059\n",
      "Epoch 11/100\n",
      "535/535 [==============================] - 2s 4ms/step - loss: 0.0065 - mae: 0.0572 - mse: 0.0065 - val_loss: 0.0062 - val_mae: 0.0586 - val_mse: 0.0062\n",
      "Epoch 12/100\n",
      "535/535 [==============================] - 2s 5ms/step - loss: 0.0065 - mae: 0.0576 - mse: 0.0065 - val_loss: 0.0060 - val_mae: 0.0543 - val_mse: 0.0060\n",
      "Epoch 13/100\n",
      "535/535 [==============================] - 2s 3ms/step - loss: 0.0064 - mae: 0.0573 - mse: 0.0064 - val_loss: 0.0062 - val_mae: 0.0595 - val_mse: 0.0062\n",
      "Epoch 14/100\n",
      "535/535 [==============================] - 1s 2ms/step - loss: 0.0065 - mae: 0.0575 - mse: 0.0065 - val_loss: 0.0089 - val_mae: 0.0773 - val_mse: 0.0089\n",
      "Epoch 15/100\n",
      "535/535 [==============================] - 1s 3ms/step - loss: 0.0065 - mae: 0.0579 - mse: 0.0065 - val_loss: 0.0061 - val_mae: 0.0548 - val_mse: 0.0061\n",
      "Epoch 16/100\n",
      "535/535 [==============================] - 2s 3ms/step - loss: 0.0063 - mae: 0.0566 - mse: 0.0063 - val_loss: 0.0059 - val_mae: 0.0558 - val_mse: 0.0059\n",
      "Epoch 17/100\n",
      "535/535 [==============================] - 2s 3ms/step - loss: 0.0064 - mae: 0.0570 - mse: 0.0064 - val_loss: 0.0064 - val_mae: 0.0603 - val_mse: 0.0064\n",
      "Epoch 18/100\n",
      "535/535 [==============================] - 2s 3ms/step - loss: 0.0064 - mae: 0.0567 - mse: 0.0064 - val_loss: 0.0058 - val_mae: 0.0558 - val_mse: 0.0058\n",
      "Epoch 19/100\n",
      "535/535 [==============================] - 2s 3ms/step - loss: 0.0064 - mae: 0.0574 - mse: 0.0064 - val_loss: 0.0059 - val_mae: 0.0542 - val_mse: 0.0059\n",
      "Epoch 20/100\n",
      "535/535 [==============================] - 2s 3ms/step - loss: 0.0064 - mae: 0.0573 - mse: 0.0064 - val_loss: 0.0060 - val_mae: 0.0554 - val_mse: 0.0060\n",
      "Epoch 21/100\n",
      "535/535 [==============================] - 2s 3ms/step - loss: 0.0063 - mae: 0.0567 - mse: 0.0063 - val_loss: 0.0064 - val_mae: 0.0608 - val_mse: 0.0064\n",
      "Epoch 22/100\n",
      "535/535 [==============================] - 2s 3ms/step - loss: 0.0064 - mae: 0.0568 - mse: 0.0064 - val_loss: 0.0059 - val_mae: 0.0542 - val_mse: 0.0059\n",
      "Epoch 23/100\n",
      "535/535 [==============================] - 2s 3ms/step - loss: 0.0063 - mae: 0.0565 - mse: 0.0063 - val_loss: 0.0063 - val_mae: 0.0595 - val_mse: 0.0063\n",
      "Epoch 24/100\n",
      "535/535 [==============================] - 2s 3ms/step - loss: 0.0063 - mae: 0.0565 - mse: 0.0063 - val_loss: 0.0062 - val_mae: 0.0585 - val_mse: 0.0062\n",
      "Epoch 25/100\n",
      "535/535 [==============================] - 2s 3ms/step - loss: 0.0063 - mae: 0.0566 - mse: 0.0063 - val_loss: 0.0061 - val_mae: 0.0587 - val_mse: 0.0061\n",
      "Epoch 26/100\n",
      "535/535 [==============================] - 2s 4ms/step - loss: 0.0063 - mae: 0.0562 - mse: 0.0063 - val_loss: 0.0059 - val_mae: 0.0569 - val_mse: 0.0059\n",
      "Epoch 27/100\n",
      "535/535 [==============================] - 2s 3ms/step - loss: 0.0063 - mae: 0.0563 - mse: 0.0063 - val_loss: 0.0059 - val_mae: 0.0547 - val_mse: 0.0059\n",
      "Epoch 28/100\n",
      "535/535 [==============================] - 2s 4ms/step - loss: 0.0062 - mae: 0.0563 - mse: 0.0062 - val_loss: 0.0058 - val_mae: 0.0552 - val_mse: 0.0058\n",
      "Model: \"sequential\"\n",
      "_________________________________________________________________\n",
      "Layer (type)                 Output Shape              Param #   \n",
      "=================================================================\n",
      "dense (Dense)                (None, 10)                110       \n",
      "_________________________________________________________________\n",
      "dense_1 (Dense)              (None, 1)                 11        \n",
      "=================================================================\n",
      "Total params: 121\n",
      "Trainable params: 121\n",
      "Non-trainable params: 0\n",
      "_________________________________________________________________\n"
     ]
    }
   ],
   "source": [
    "#Build Keras Model\n",
    " \n",
    "import keras\n",
    "from keras import Sequential\n",
    "from keras.layers import Dense\n",
    " \n",
    "model = Sequential()\n",
    "model.add(Dense(units=10, input_dim=10,activation='relu'))\n",
    "model.add(Dense(units=1,activation='linear'))\n",
    "model.compile(optimizer='adam', loss='mean_squared_error',  metrics=['mae','mse'])\n",
    " \n",
    "early_stop = keras.callbacks.EarlyStopping(monitor='val_loss', patience=10)\n",
    " \n",
    "history=model.fit(X_train,y_train,batch_size=5, validation_split = 0.2, callbacks=[early_stop], epochs=100)\n",
    " \n",
    "# Model summary for number of parameters use in the algorithm\n",
    "model.summary()"
   ]
  },
  {
   "cell_type": "markdown",
   "id": "aea5b45b",
   "metadata": {},
   "source": [
    "Stacking layers is executed with model.add(). We stack a dense layer of 10 nodes that has 10 inputs feeding into the layer. The activation function chosen for this layer is a ReLU (Rectified Linear Unit), a popular choice due to better gradient propagation and sparser activation than a sigmoidal function for example. A final output layer with a linear activation function is stacked to simply return the model output. This network architecture was picked rather arbitrarily, but can be tuned to achieve better performance. The model is compiled using model.compile(). Here, we specify the type of optimizer- in this case the Adam optimizer which has become a popular alternative to the more traditional stochastic gradient descent. A mean-squared-error loss function is specified and the metrics reported will be “mean squared error” and “mean absolute error”. Then we call model.fit() to iterate training in batch sizes. Batch size corresponds to the number of training instances that are processed before the model is updated. The number of epochs is the number of complete passes through the dataset. The more times that the model can see the dataset, the more chances it has to learn the patterns, but too many epochs can also lead to overfitting. The number of epochs appropriate for this case is unknown, so I can implement a validation set that is 20% of my current training set. I set a large value of 100 epochs and add early stopping criteria that stops training when the validation score stops improving and helps prevent overfitting."
   ]
  },
  {
   "cell_type": "markdown",
   "id": "494b6bf6",
   "metadata": {},
   "source": [
    "Training and validation error can be plotted as a function of epochs4"
   ]
  },
  {
   "cell_type": "markdown",
   "id": "43fe7852",
   "metadata": {},
   "source": [
    " Prediction and Assessment of Model"
   ]
  },
  {
   "cell_type": "markdown",
   "id": "9acc27b0",
   "metadata": {},
   "source": [
    "Once our model is trained, we can use it to predict the age of the abalone in the test set. Once the values are predicted, then they must be re-scaled back which is performed using the inverse_transform function from Scikit-learn.\n",
    "\n"
   ]
  },
  {
   "cell_type": "code",
   "execution_count": 24,
   "id": "17dd17fb",
   "metadata": {},
   "outputs": [],
   "source": [
    "#Predict testing labels\n",
    " \n",
    "y_pred= model.predict(X_test)\n",
    " \n",
    "#undo normalization \n",
    " \n",
    "y_pred_transformed=scalar.inverse_transform(y_pred.reshape(-1,1))\n",
    "y_test_transformed=scalar.inverse_transform(y_test)"
   ]
  },
  {
   "cell_type": "code",
   "execution_count": 26,
   "id": "f0b52987",
   "metadata": {},
   "outputs": [
    {
     "data": {
      "image/png": "[encoded data removed]",
      "text/plain": [
       "<Figure size 432x288 with 1 Axes>"
      ]
     },
     "metadata": {
      "needs_background": "light"
     },
     "output_type": "display_data"
    },
    {
     "name": "stdout",
     "output_type": "stream",
     "text": [
      "2.072954813813219\n",
      "0.5452074850270103\n"
     ]
    }
   ],
   "source": [
    "#visualize performance\n",
    "fig, ax = plt.subplots()\n",
    "ax.scatter(y_test_transformed, y_pred_transformed)\n",
    "ax.plot([y_test_transformed.min(), y_test_transformed.max()], [y_test_transformed.min(), y_test_transformed.max()], 'k--', lw=4)\n",
    "ax.set_xlabel('Measured (Rings)')\n",
    "ax.set_ylabel('Predicted (Rings)')\n",
    "plt.show()\n",
    " \n",
    "#Calculate RMSE and R^2\n",
    "from sklearn.metrics import mean_squared_error\n",
    "from math import sqrt\n",
    "rms = sqrt(mean_squared_error(y_test_transformed, y_pred_transformed))\n",
    "print(rms)\n",
    " \n",
    "from sklearn.metrics import r2_score\n",
    "r_squared=r2_score(y_test_transformed,y_pred_transformed)\n",
    "print(r_squared)"
   ]
  },
  {
   "cell_type": "markdown",
   "id": "de375165",
   "metadata": {},
   "source": [
    "The performance is not ideal, but the results are appropriate given that this dataset is notoriously hard to use for prediction without other relevant information such as weather or location. Ultimately, it is up to the user to decide if these are significant/acceptable values, otherwise the neural network hyperparameters can be further fine-tuned or more input data and more features can be added to the dataset to try to improve performance."
   ]
  },
  {
   "cell_type": "markdown",
   "id": "27cffec5",
   "metadata": {},
   "source": [
    "#### 4.Write another algorithm to predict the same result as the previous question using either KNN or logistic regression."
   ]
  },
  {
   "cell_type": "markdown",
   "id": "ad446f31",
   "metadata": {},
   "source": [
    "#### KNN"
   ]
  },
  {
   "cell_type": "code",
   "execution_count": 50,
   "id": "d72964b0",
   "metadata": {},
   "outputs": [],
   "source": [
    "#y = dataset[\"Rings\"]\n",
    "#X = dataset.drop(columns=\"Rings\")\n",
    "\n",
    "#Separate input data and labels\n",
    "X=dataset.iloc[:,0:8]\n",
    "y=dataset.iloc[:,8].values"
   ]
  },
  {
   "cell_type": "code",
   "execution_count": 51,
   "id": "aaf83d22",
   "metadata": {},
   "outputs": [],
   "source": [
    "X_train, X_test, y_train, y_test = train_test_split(X, y, test_size=0.2)"
   ]
  },
  {
   "cell_type": "code",
   "execution_count": 52,
   "id": "3427768d",
   "metadata": {},
   "outputs": [
    {
     "name": "stdout",
     "output_type": "stream",
     "text": [
      "0.8660287081339713\n",
      "0.8636363636363636\n"
     ]
    }
   ],
   "source": [
    "from sklearn.neighbors import KNeighborsClassifier\n",
    "# Initializing classifier and giving hyperparameter k=3\n",
    "knn = KNeighborsClassifier(n_neighbors=3)\n",
    "# training classifier\n",
    "knn.fit(X_train, y_train)\n",
    "# Evaluate the classifier\n",
    "print(knn.score(X_test, y_test))\n",
    "# Try changing hyperparameter\n",
    "knn = KNeighborsClassifier(n_neighbors=5)\n",
    "knn.fit(X_train, y_train)\n",
    "print(knn.score(X_test, y_test))"
   ]
  },
  {
   "cell_type": "markdown",
   "id": "333ee149",
   "metadata": {},
   "source": [
    "We get accuracy of 0.64 and 0.62 for k=3 and k=5 respectively."
   ]
  },
  {
   "cell_type": "markdown",
   "id": "70c74536",
   "metadata": {},
   "source": [
    "#### Algorithm 2: Logistic Regression"
   ]
  },
  {
   "cell_type": "code",
   "execution_count": 53,
   "id": "ad4c3716",
   "metadata": {},
   "outputs": [
    {
     "name": "stdout",
     "output_type": "stream",
     "text": [
      "0.8600478468899522\n"
     ]
    }
   ],
   "source": [
    " from sklearn.linear_model import LogisticRegression\n",
    "# Initializing classifier with one-v-rest approach. random_state is # to ensure same results in every execution.\n",
    "logr = LogisticRegression(multi_class = 'ovr', random_state=3)\n",
    "# training classifier\n",
    "logr.fit(X_train, y_train)\n",
    "# Evaluate the classifier\n",
    "print(logr.score(X_test, y_test))"
   ]
  },
  {
   "cell_type": "markdown",
   "id": "ac49c640",
   "metadata": {},
   "source": [
    "#### 5.Create a neural network using pytorch to predict the same result as question 3. "
   ]
  },
  {
   "cell_type": "code",
   "execution_count": 54,
   "id": "87c84600",
   "metadata": {},
   "outputs": [
    {
     "data": {
      "text/plain": [
       "(4177, 11)"
      ]
     },
     "execution_count": 54,
     "metadata": {},
     "output_type": "execute_result"
    }
   ],
   "source": [
    "dataset.shape"
   ]
  },
  {
   "cell_type": "code",
   "execution_count": 62,
   "id": "426290f0",
   "metadata": {},
   "outputs": [],
   "source": [
    "#Separate input data and labels\n",
    "X=dataset.iloc[:,0:8]\n",
    "y=dataset.iloc[:,8].values"
   ]
  },
  {
   "cell_type": "code",
   "execution_count": 63,
   "id": "8b48a45b",
   "metadata": {},
   "outputs": [],
   "source": [
    "from sklearn.preprocessing import StandardScaler\n",
    "# Split into training and test set\n",
    "X_train, X_test, y_train, y_test = train_test_split(X, y, test_size = 0.2, random_state=42, stratify=y)\n",
    "\n",
    "# #Standardize\n",
    "sc= StandardScaler()\n",
    "X_train=sc.fit_transform(X_train)\n",
    "X_test=sc.fit_transform(X_test)"
   ]
  },
  {
   "cell_type": "code",
   "execution_count": 64,
   "id": "6af68a69",
   "metadata": {},
   "outputs": [
    {
     "name": "stdout",
     "output_type": "stream",
     "text": [
      "tensor([[ 0.7188,  0.7268,  0.6020,  ...,  0.7055,  0.4721,  1.3075],\n",
      "        [ 0.3016,  0.4239,  0.4832,  ...,  0.8066,  0.4362, -0.7648],\n",
      "        [ 0.2598,  0.3229,  0.2458,  ..., -0.3153, -0.0660,  1.3075],\n",
      "        ...,\n",
      "        [-0.5329, -0.4847, -0.9414,  ..., -0.8027, -0.8909, -0.7648],\n",
      "        [-0.9084, -0.8380, -0.9414,  ..., -1.0004, -1.0344, -0.7648],\n",
      "        [ 0.5102,  0.4239,  0.4832,  ...,  0.9860,  0.0775, -0.7648]])\n"
     ]
    }
   ],
   "source": [
    "import torch\n",
    "import torchvision\n",
    "import torch.nn as nn\n",
    "import torch.nn.functional as F #this has activation functions\n",
    "\n",
    "# Creating tensors\n",
    "X_train = torch.FloatTensor(X_train)\n",
    "X_test = torch.FloatTensor(X_test)\n",
    "\n",
    "y_train = torch.LongTensor(y_train)\n",
    "y_test = torch.LongTensor(y_test)\n",
    "\n",
    "print(X_train)"
   ]
  },
  {
   "cell_type": "code",
   "execution_count": 65,
   "id": "d3109247",
   "metadata": {},
   "outputs": [],
   "source": [
    "class ANN_Model(nn.Module):\n",
    "    def __init__(self, input_features=8, hidden1=20, hidden2=20, out_features =2):\n",
    "        super().__init__()\n",
    "        self.layer_1_connection = nn.Linear(input_features, hidden1)\n",
    "        self.layer_2_connection = nn.Linear(hidden1, hidden2)\n",
    "        self.out = nn.Linear(hidden2, out_features)\n",
    "    \n",
    "    def forward(self, x):\n",
    "        #apply activation functions\n",
    "        x = F.relu(self.layer_1_connection(x))\n",
    "        x = F.relu(self.layer_2_connection(x))\n",
    "        x = self.out(x)\n",
    "        return x"
   ]
  },
  {
   "cell_type": "code",
   "execution_count": 66,
   "id": "cd797cb1",
   "metadata": {},
   "outputs": [
    {
     "data": {
      "text/plain": [
       "ANN_Model(\n",
       "  (layer_1_connection): Linear(in_features=8, out_features=20, bias=True)\n",
       "  (layer_2_connection): Linear(in_features=20, out_features=20, bias=True)\n",
       "  (out): Linear(in_features=20, out_features=2, bias=True)\n",
       ")"
      ]
     },
     "execution_count": 66,
     "metadata": {},
     "output_type": "execute_result"
    }
   ],
   "source": [
    "torch.manual_seed(42)\n",
    "\n",
    "#instantiate the model\n",
    "model = ANN_Model()\n",
    "model"
   ]
  },
  {
   "cell_type": "code",
   "execution_count": 67,
   "id": "b50c9ee1",
   "metadata": {},
   "outputs": [],
   "source": [
    "# loss function\n",
    "loss_function = nn.CrossEntropyLoss()\n",
    "\n",
    "#optimizer\n",
    "optimizer = torch.optim.Adam(model.parameters(), lr = 0.01)"
   ]
  },
  {
   "cell_type": "markdown",
   "id": "5e319e16",
   "metadata": {},
   "source": [
    "#Model Training\n",
    "\n",
    "This part will also be extremely simple. We’ll train the model for 100 epochs, keeping track of time and loss. Every 10 epochs we’ll output to the console the current status — indicating on which epoch are we and what’s the current loss.\n"
   ]
  },
  {
   "cell_type": "code",
   "execution_count": 68,
   "id": "35fda472",
   "metadata": {},
   "outputs": [
    {
     "name": "stdout",
     "output_type": "stream",
     "text": [
      "Epoch number: 1 with loss: 0.6248833537101746\n",
      "Epoch number: 11 with loss: 0.46087217330932617\n",
      "Epoch number: 21 with loss: 0.2841832935810089\n",
      "Epoch number: 31 with loss: 0.2739645540714264\n",
      "Epoch number: 41 with loss: 0.2651500403881073\n",
      "Epoch number: 51 with loss: 0.26045286655426025\n",
      "Epoch number: 61 with loss: 0.2557704746723175\n",
      "Epoch number: 71 with loss: 0.251229852437973\n",
      "Epoch number: 81 with loss: 0.24725529551506042\n",
      "Epoch number: 91 with loss: 0.24399934709072113\n"
     ]
    }
   ],
   "source": [
    "#run model through multiple epochs/iterations\n",
    "final_loss = []\n",
    "n_epochs = 100\n",
    "for epoch in range(n_epochs):\n",
    "    y_pred = model.forward(X_train)\n",
    "    loss = loss_function(y_pred, y_train)\n",
    "    final_loss.append(loss)\n",
    "    \n",
    "    if epoch % 10 == 1:\n",
    "        print(f'Epoch number: {epoch} with loss: {loss.item()}')\n",
    "    \n",
    "    optimizer.zero_grad() #zero the gradient before running backwards propagation\n",
    "    loss.backward() #for backward propagation \n",
    "    optimizer.step() #performs one optimization step each epoch\n",
    "    "
   ]
  },
  {
   "cell_type": "code",
   "execution_count": 69,
   "id": "11e825b7",
   "metadata": {},
   "outputs": [],
   "source": [
    "#predictions\n",
    "y_pred = []\n",
    "\n",
    "with torch.no_grad():\n",
    "    for i, data in enumerate(X_test):\n",
    "        prediction = model(data)\n",
    "        y_pred.append(prediction.argmax().item())\n"
   ]
  },
  {
   "cell_type": "code",
   "execution_count": 70,
   "id": "ecc0a33b",
   "metadata": {},
   "outputs": [
    {
     "name": "stdout",
     "output_type": "stream",
     "text": [
      "0.8911483253588517\n"
     ]
    }
   ],
   "source": [
    "from sklearn.metrics import accuracy_score\n",
    "a_score = accuracy_score(y_test, y_pred)\n",
    "print(a_score)"
   ]
  },
  {
   "cell_type": "code",
   "execution_count": 71,
   "id": "198f1328",
   "metadata": {},
   "outputs": [
    {
     "name": "stdout",
     "output_type": "stream",
     "text": [
      "              precision    recall  f1-score   support\n",
      "\n",
      "           0       0.91      0.93      0.92       574\n",
      "           1       0.84      0.80      0.82       262\n",
      "\n",
      "    accuracy                           0.89       836\n",
      "   macro avg       0.88      0.87      0.87       836\n",
      "weighted avg       0.89      0.89      0.89       836\n",
      "\n"
     ]
    }
   ],
   "source": [
    "from sklearn.metrics import classification_report\n",
    "\n",
    "print(classification_report(y_test, y_pred))"
   ]
  },
  {
   "cell_type": "markdown",
   "id": "6db87d2b",
   "metadata": {},
   "source": [
    "#### 6.Compare the performance of the neural networks to the other model you created. Which performed better? Why do you think that is?"
   ]
  },
  {
   "cell_type": "markdown",
   "id": "84361d56",
   "metadata": {},
   "source": [
    "with the keras model we get the accuracy of model is 0.54%, with the KNN and Logistic Regression we get the accuracy 0.86% \n",
    "and using neural network with pytorch we get the highest accuracy is 0.89%. \n",
    "so neural network with pytorch performed better."
   ]
  }
 ],
 "metadata": {
  "kernelspec": {
   "display_name": "Python 3",
   "language": "python",
   "name": "python3"
  },
  "language_info": {
   "codemirror_mode": {
    "name": "ipython",
    "version": 3
   },
   "file_extension": ".py",
   "mimetype": "text/x-python",
   "name": "python",
   "nbconvert_exporter": "python",
   "pygments_lexer": "ipython3",
   "version": "3.8.8"
  }
 },
 "nbformat": 4,
 "nbformat_minor": 5
}
